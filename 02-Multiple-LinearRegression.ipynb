{
 "cells": [
  {
   "cell_type": "markdown",
   "id": "69e975a0",
   "metadata": {},
   "source": [
    "Simple Linear Regression is a useful approach for predicting a response on the basis of a single predictor variable. However, in practice we often have more than one prediction. For example. in the advertising data, we have examined the relationship between sales and TV advertising. We also have data for the amount of momney spent advertising on the radio and in newspapers, and we may want to know whether either of these two media is associated with sales. How can we extend our analysis of the advertising data in order to accommodate these two additional predictors? One option is to run three separate simple linear regression, each of which uses a different advertising medium as a predictor. The approach of fitting a separate simple linear regression model for each predictor is not entirely satisfactory. \n",
    "- First of all, it is unclear how to make a single prediction of sales given the three advertising media budgets, since each of the budgets is associated with a separate regression equation. \n",
    "- Second, each of the three regression equations ignores the other two media in forming estimates for the regression coefficients. "
   ]
  },
  {
   "cell_type": "code",
   "execution_count": 6,
   "id": "ff4b9870",
   "metadata": {},
   "outputs": [],
   "source": [
    "import pandas as pd\n",
    "import numpy as np\n",
    "import matplotlib.pyplot as plt\n",
    "import seaborn as sns\n",
    "from sklearn.metrics import mean_squared_error, r2_score\n",
    "from scipy.stats import t\n",
    "\n",
    "import statsmodels.api as sm\n",
    "from sklearn.linear_model import LinearRegression"
   ]
  },
  {
   "cell_type": "markdown",
   "id": "6935ad36",
   "metadata": {},
   "source": [
    "# Find separate regression equation"
   ]
  },
  {
   "cell_type": "markdown",
   "id": "d2950a8c",
   "metadata": {},
   "source": [
    "# The Proof of Coefficients for Multiple Linear Regression Model"
   ]
  },
  {
   "cell_type": "code",
   "execution_count": 2,
   "id": "e525f9aa",
   "metadata": {},
   "outputs": [
    {
     "data": {
      "text/html": [
       "<div>\n",
       "<style scoped>\n",
       "    .dataframe tbody tr th:only-of-type {\n",
       "        vertical-align: middle;\n",
       "    }\n",
       "\n",
       "    .dataframe tbody tr th {\n",
       "        vertical-align: top;\n",
       "    }\n",
       "\n",
       "    .dataframe thead th {\n",
       "        text-align: right;\n",
       "    }\n",
       "</style>\n",
       "<table border=\"1\" class=\"dataframe\">\n",
       "  <thead>\n",
       "    <tr style=\"text-align: right;\">\n",
       "      <th></th>\n",
       "      <th>TV</th>\n",
       "      <th>Radio</th>\n",
       "      <th>Newspaper</th>\n",
       "      <th>Sales</th>\n",
       "    </tr>\n",
       "  </thead>\n",
       "  <tbody>\n",
       "    <tr>\n",
       "      <th>0</th>\n",
       "      <td>230.1</td>\n",
       "      <td>37.8</td>\n",
       "      <td>69.2</td>\n",
       "      <td>22.1</td>\n",
       "    </tr>\n",
       "    <tr>\n",
       "      <th>1</th>\n",
       "      <td>44.5</td>\n",
       "      <td>39.3</td>\n",
       "      <td>45.1</td>\n",
       "      <td>10.4</td>\n",
       "    </tr>\n",
       "    <tr>\n",
       "      <th>2</th>\n",
       "      <td>17.2</td>\n",
       "      <td>45.9</td>\n",
       "      <td>69.3</td>\n",
       "      <td>9.3</td>\n",
       "    </tr>\n",
       "    <tr>\n",
       "      <th>3</th>\n",
       "      <td>151.5</td>\n",
       "      <td>41.3</td>\n",
       "      <td>58.5</td>\n",
       "      <td>18.5</td>\n",
       "    </tr>\n",
       "    <tr>\n",
       "      <th>4</th>\n",
       "      <td>180.8</td>\n",
       "      <td>10.8</td>\n",
       "      <td>58.4</td>\n",
       "      <td>12.9</td>\n",
       "    </tr>\n",
       "  </tbody>\n",
       "</table>\n",
       "</div>"
      ],
      "text/plain": [
       "      TV  Radio  Newspaper  Sales\n",
       "0  230.1   37.8       69.2   22.1\n",
       "1   44.5   39.3       45.1   10.4\n",
       "2   17.2   45.9       69.3    9.3\n",
       "3  151.5   41.3       58.5   18.5\n",
       "4  180.8   10.8       58.4   12.9"
      ]
     },
     "execution_count": 2,
     "metadata": {},
     "output_type": "execute_result"
    }
   ],
   "source": [
    "df = pd.read_csv('Advertising.csv')\n",
    "# drop feature 'Unnamed:0'\n",
    "df = df.drop(['Unnamed: 0'], axis=1)\n",
    "df.head()"
   ]
  },
  {
   "cell_type": "markdown",
   "id": "8dfbf924",
   "metadata": {},
   "source": [
    "# Find best Coeff and Intepretation"
   ]
  },
  {
   "cell_type": "code",
   "execution_count": null,
   "id": "613ba6f3",
   "metadata": {},
   "outputs": [
    {
     "name": "stdout",
     "output_type": "stream",
     "text": [
      "Intercept: 2.9388893694594085\n",
      "Coefficients: [ 0.04576465  0.18853002 -0.00103749]\n"
     ]
    },
    {
     "data": {
      "text/html": [
       "<div>\n",
       "<style scoped>\n",
       "    .dataframe tbody tr th:only-of-type {\n",
       "        vertical-align: middle;\n",
       "    }\n",
       "\n",
       "    .dataframe tbody tr th {\n",
       "        vertical-align: top;\n",
       "    }\n",
       "\n",
       "    .dataframe thead th {\n",
       "        text-align: right;\n",
       "    }\n",
       "</style>\n",
       "<table border=\"1\" class=\"dataframe\">\n",
       "  <thead>\n",
       "    <tr style=\"text-align: right;\">\n",
       "      <th></th>\n",
       "      <th>Feature</th>\n",
       "      <th>Coefficient</th>\n",
       "    </tr>\n",
       "  </thead>\n",
       "  <tbody>\n",
       "    <tr>\n",
       "      <th>0</th>\n",
       "      <td>Intercept</td>\n",
       "      <td>2.938889</td>\n",
       "    </tr>\n",
       "    <tr>\n",
       "      <th>1</th>\n",
       "      <td>TV</td>\n",
       "      <td>0.045765</td>\n",
       "    </tr>\n",
       "    <tr>\n",
       "      <th>2</th>\n",
       "      <td>Radio</td>\n",
       "      <td>0.188530</td>\n",
       "    </tr>\n",
       "    <tr>\n",
       "      <th>3</th>\n",
       "      <td>Newspaper</td>\n",
       "      <td>-0.001037</td>\n",
       "    </tr>\n",
       "  </tbody>\n",
       "</table>\n",
       "</div>"
      ],
      "text/plain": [
       "     Feature  Coefficient\n",
       "0  Intercept     2.938889\n",
       "1         TV     0.045765\n",
       "2      Radio     0.188530\n",
       "3  Newspaper    -0.001037"
      ]
     },
     "execution_count": 5,
     "metadata": {},
     "output_type": "execute_result"
    }
   ],
   "source": [
    "X = df[['TV', 'Radio', 'Newspaper']]\n",
    "y = df['Sales']\n",
    "\n",
    "# Fit multiple linear regression model\n",
    "model = LinearRegression()\n",
    "model.fit(X, y)\n",
    "\n",
    "# Get coefficients and intercept\n",
    "coefficients = model.coef_\n",
    "intercept = model.intercept_\n",
    "\n",
    "# Display the result\n",
    "print(\"Intercept:\", intercept)\n",
    "print(\"Coefficients:\", coefficients)\n",
    "\n",
    "# Optional: create a DataFrame for easy viewing\n",
    "coef_df = pd.DataFrame({\n",
    "    'Feature': X.columns,\n",
    "    'Coefficient': coefficients\n",
    "})\n",
    "\n",
    "coef_df_with_intercept = pd.concat([\n",
    "    pd.DataFrame({'Feature': ['Intercept'], 'Coefficient': [intercept]}),\n",
    "    coef_df\n",
    "], ignore_index=True)\n",
    "\n",
    "coef_df_with_intercept"
   ]
  },
  {
   "cell_type": "code",
   "execution_count": 9,
   "id": "c17d5fcc",
   "metadata": {},
   "outputs": [
    {
     "name": "stdout",
     "output_type": "stream",
     "text": [
      "                            OLS Regression Results                            \n",
      "==============================================================================\n",
      "Dep. Variable:                  Sales   R-squared:                       0.897\n",
      "Model:                            OLS   Adj. R-squared:                  0.896\n",
      "Method:                 Least Squares   F-statistic:                     570.3\n",
      "Date:                Thu, 10 Apr 2025   Prob (F-statistic):           1.58e-96\n",
      "Time:                        08:33:40   Log-Likelihood:                -386.18\n",
      "No. Observations:                 200   AIC:                             780.4\n",
      "Df Residuals:                     196   BIC:                             793.6\n",
      "Df Model:                           3                                         \n",
      "Covariance Type:            nonrobust                                         \n",
      "==============================================================================\n",
      "                 coef    std err          t      P>|t|      [0.025      0.975]\n",
      "------------------------------------------------------------------------------\n",
      "const          2.9389      0.312      9.422      0.000       2.324       3.554\n",
      "TV             0.0458      0.001     32.809      0.000       0.043       0.049\n",
      "Radio          0.1885      0.009     21.893      0.000       0.172       0.206\n",
      "Newspaper     -0.0010      0.006     -0.177      0.860      -0.013       0.011\n",
      "==============================================================================\n",
      "Omnibus:                       60.414   Durbin-Watson:                   2.084\n",
      "Prob(Omnibus):                  0.000   Jarque-Bera (JB):              151.241\n",
      "Skew:                          -1.327   Prob(JB):                     1.44e-33\n",
      "Kurtosis:                       6.332   Cond. No.                         454.\n",
      "==============================================================================\n",
      "\n",
      "Notes:\n",
      "[1] Standard Errors assume that the covariance matrix of the errors is correctly specified.\n"
     ]
    }
   ],
   "source": [
    "# Add a constant (intercept term) to the model\n",
    "X_with_const = sm.add_constant(X)\n",
    "\n",
    "# Fit the OLS model\n",
    "ols_model = sm.OLS(y, X_with_const).fit()\n",
    "\n",
    "# Display full summary (includes std err, t, P>|t|, R², etc.)\n",
    "print(ols_model.summary())"
   ]
  },
  {
   "cell_type": "markdown",
   "id": "424bf0a4",
   "metadata": {},
   "source": [
    "# Separate SLR V.S. MLR\n",
    "\n",
    "- The correlation between **radio** and **newspaper** is 0.35. This indivtes that markets with high newspaper advertising tend to also have high radio advertising.\n",
    "- SLR inciates newspaper is associated with sales.\n",
    "- MLR indicates newspaper is not associated with sales, but radio advertising is associated with sales. If we spend on more radio, the sales will tend to be higher. As the correlation maxtrix shows, we also tend to spend more on newspaper in those same markets. Even though newspaper advertising is not directly associated with sales, newpspaer advertising is a surrogate for radio advertising and newspaper gets \"credit\" for association between radio on sales."
   ]
  },
  {
   "cell_type": "code",
   "execution_count": 11,
   "id": "e5394f5d",
   "metadata": {},
   "outputs": [
    {
     "data": {
      "image/png": "[encoded data removed]",
      "text/plain": [
       "<Figure size 800x600 with 2 Axes>"
      ]
     },
     "metadata": {},
     "output_type": "display_data"
    }
   ],
   "source": [
    "# Compute the correlation matrix\n",
    "corr_matrix = df.corr()\n",
    "\n",
    "# Plot the heatmap\n",
    "plt.figure(figsize=(8, 6))\n",
    "sns.heatmap(corr_matrix, annot=True, cmap='coolwarm', fmt=\".4f\", square=True)\n",
    "plt.title('Correlation Matrix')\n",
    "plt.tight_layout()\n",
    "plt.show()"
   ]
  },
  {
   "cell_type": "markdown",
   "id": "8be6e281",
   "metadata": {},
   "source": [
    "# Is there a relationship between the response and predictors?\n",
    "\n",
    "Hypothesis test set H0: beta1 = beta2 = ... = betan = 0\n",
    "\n",
    "The hypothesis test is peformed by computing the F-statistic. When there is no relationship(H0 is true) between response and predictors, we would expect the F-statistic to take on a value close to 1. If Ha is true, we expect F to be greater than 1.\n",
    "\n",
    "In our case, F is 570 ad far larger than 1, it provided compelling evidence against the null hypothesis H0. **The large F-statistic suggests that at least one of the advertising media must be related to sales.**\n",
    "\n",
    "How large does the F-statistic need to be before we can reject H0 and conclude that there is a relationship? It turns out that the answer depends on the values of n and p. When n is large, an Fstatistic that is just a little larger than 1 might still provide evidence again H0. In constrast, a larger F-statistic is needed to reject H0 if n is small. (Incompleted page94)"
   ]
  },
  {
   "cell_type": "code",
   "execution_count": 12,
   "id": "5c9f531b",
   "metadata": {},
   "outputs": [
    {
     "name": "stdout",
     "output_type": "stream",
     "text": [
      "                            OLS Regression Results                            \n",
      "==============================================================================\n",
      "Dep. Variable:                  Sales   R-squared:                       0.897\n",
      "Model:                            OLS   Adj. R-squared:                  0.896\n",
      "Method:                 Least Squares   F-statistic:                     570.3\n",
      "Date:                Thu, 10 Apr 2025   Prob (F-statistic):           1.58e-96\n",
      "Time:                        09:08:14   Log-Likelihood:                -386.18\n",
      "No. Observations:                 200   AIC:                             780.4\n",
      "Df Residuals:                     196   BIC:                             793.6\n",
      "Df Model:                           3                                         \n",
      "Covariance Type:            nonrobust                                         \n",
      "==============================================================================\n",
      "                 coef    std err          t      P>|t|      [0.025      0.975]\n",
      "------------------------------------------------------------------------------\n",
      "const          2.9389      0.312      9.422      0.000       2.324       3.554\n",
      "TV             0.0458      0.001     32.809      0.000       0.043       0.049\n",
      "Radio          0.1885      0.009     21.893      0.000       0.172       0.206\n",
      "Newspaper     -0.0010      0.006     -0.177      0.860      -0.013       0.011\n",
      "==============================================================================\n",
      "Omnibus:                       60.414   Durbin-Watson:                   2.084\n",
      "Prob(Omnibus):                  0.000   Jarque-Bera (JB):              151.241\n",
      "Skew:                          -1.327   Prob(JB):                     1.44e-33\n",
      "Kurtosis:                       6.332   Cond. No.                         454.\n",
      "==============================================================================\n",
      "\n",
      "Notes:\n",
      "[1] Standard Errors assume that the covariance matrix of the errors is correctly specified.\n"
     ]
    }
   ],
   "source": [
    "print(ols_model.summary())"
   ]
  },
  {
   "cell_type": "markdown",
   "id": "c36bebb9",
   "metadata": {},
   "source": [
    "# Deciding on Important Variables\n",
    "\n",
    "- it is possible that all of the predictor are associated with the response, but it is more often the case that the response is only associated with a subset of the predictors.\n",
    "- The task of determining which predictors are associated with the response, in order to fit a single model involving only those predictors, is referred to as **variable selection**.\n",
    "  - Why test all combination of models doesn't work(page96)\n",
    "  - Three classical approaches for this task:\n",
    "    - Forward selection\n",
    "    - backward selection\n",
    "    - mixed selection"
   ]
  },
  {
   "cell_type": "markdown",
   "id": "985b2892",
   "metadata": {},
   "source": [
    "# Model Fit\n",
    "\n",
    "- RSE and R2 are most important\n",
    "- The previous table shows R2 of 0.8972 on the model that uses all three advertising media to predict sales.\n",
    "- if you drop newspaper and calculate the model again, you will have R2 of 0.89719.\n",
    "- it says even thought p-value(0.860) from preivous table indicates that newspaper is not significant and very weakly associated with the response, R2 will slightly increase when it is added into the model.\n",
    "- In fact, adding newspaper  to the model leads to tiny increase in R2 provideds additional evidence that newspaper can be dropped from the model.\n",
    "- If model only contain TV, we will have R2 of 0.61. Adding radio to the model leads to a substantial improvement in R2. This implies that a model that uses TV and radio expenditures to predict sales is substantially better than one that uses only TV advertising.\n",
    "- We can further quantify this improvement by looking at p-value and R2 in a model that contains only TV and radio.\n",
    "- Calculate RSE(Page97)"
   ]
  },
  {
   "cell_type": "markdown",
   "id": "0b93da5c",
   "metadata": {},
   "source": [
    "# Prediction\n",
    "\n",
    "Confidence Interval(page99)"
   ]
  }
 ],
 "metadata": {
  "kernelspec": {
   "display_name": "Python 3",
   "language": "python",
   "name": "python3"
  },
  "language_info": {
   "codemirror_mode": {
    "name": "ipython",
    "version": 3
   },
   "file_extension": ".py",
   "mimetype": "text/x-python",
   "name": "python",
   "nbconvert_exporter": "python",
   "pygments_lexer": "ipython3",
   "version": "3.12.4"
  }
 },
 "nbformat": 4,
 "nbformat_minor": 5
}
