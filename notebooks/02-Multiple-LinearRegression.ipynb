{
 "cells": [
  {
   "cell_type": "markdown",
   "id": "69e975a0",
   "metadata": {},
   "source": [
    "Simple Linear Regression is a useful approach for predicting a response on the basis of a single predictor variable. However, in practice we often have more than one prediction. For example. in the advertising data, we have examined the relationship between sales and TV advertising. We also have data for the amount of momney spent advertising on the radio and in newspapers, and we may want to know whether either of these two media is associated with sales. How can we extend our analysis of the advertising data in order to accommodate these two additional predictors? One option is to run three separate simple linear regression, each of which uses a different advertising medium as a predictor. The approach of fitting a separate simple linear regression model for each predictor is not entirely satisfactory. \n",
    "- First of all, it is unclear how to make a single prediction of sales given the three advertising media budgets, since each of the budgets is associated with a separate regression equation. \n",
    "- Second, each of the three regression equations ignores the other two media in forming estimates for the regression coefficients. "
   ]
  },
  {
   "cell_type": "markdown",
   "id": "d9ce357f",
   "metadata": {},
   "source": [
    "## Background\n",
    "\n",
    "- Suppose that we are statistical consultants hired by a client to investigate the association between advertising and sales of a particular product.\n",
    "- We are provided the dataset consists of the **sales** of one particular product in 200 diferent markets, along with advertising budgets for the product in each of those markets for three diferent media: **TV**, **Radio**, and **newspaper**.\n",
    "- Client has **full control** of advertising expenses in each of the three media.\n",
    "- If we determine that there is an association between advertising and alses, then we can instruct our client to adjust advertising budgets, thereby indirectly increasing sales.\n",
    "- **OBJECTIVE**: Our goal is to develop an accurate model that can be used to predict sales on the basis of the three media budgets."
   ]
  },
  {
   "cell_type": "code",
   "execution_count": null,
   "id": "ff4b9870",
   "metadata": {},
   "outputs": [],
   "source": [
    "import pandas as pd\n",
    "import numpy as np\n",
    "import matplotlib.pyplot as plt\n",
    "import seaborn as sns\n",
    "from sklearn.metrics import mean_squared_error, r2_score\n",
    "from scipy.stats import t\n",
    "\n",
    "import statsmodels.api as sm\n",
    "from sklearn.linear_model import LinearRegression"
   ]
  },
  {
   "cell_type": "markdown",
   "id": "9b81a799",
   "metadata": {},
   "source": [
    "## Load Dataset\n",
    "\n",
    "- '**TV**': TV Advertising Spends, and unit is in thousands of dollars.\n",
    "- '**Radio**': Radio Advertising Spends, and unit is in thousand of dollars.\n",
    "- '**Newspaper**':Newspaper Advertising Spends, and unit is in thousand of dollars.\n",
    "- '**Sales**':The quantities of product sale at corresponding budget of three advertising approaches, and unit is in thousand of dollars(Notice is not dollars)."
   ]
  },
  {
   "cell_type": "code",
   "execution_count": 2,
   "id": "81a396b6",
   "metadata": {},
   "outputs": [
    {
     "data": {
      "text/html": [
       "<div>\n",
       "<style scoped>\n",
       "    .dataframe tbody tr th:only-of-type {\n",
       "        vertical-align: middle;\n",
       "    }\n",
       "\n",
       "    .dataframe tbody tr th {\n",
       "        vertical-align: top;\n",
       "    }\n",
       "\n",
       "    .dataframe thead th {\n",
       "        text-align: right;\n",
       "    }\n",
       "</style>\n",
       "<table border=\"1\" class=\"dataframe\">\n",
       "  <thead>\n",
       "    <tr style=\"text-align: right;\">\n",
       "      <th></th>\n",
       "      <th>TV</th>\n",
       "      <th>Radio</th>\n",
       "      <th>Newspaper</th>\n",
       "      <th>Sales</th>\n",
       "    </tr>\n",
       "  </thead>\n",
       "  <tbody>\n",
       "    <tr>\n",
       "      <th>0</th>\n",
       "      <td>230.1</td>\n",
       "      <td>37.8</td>\n",
       "      <td>69.2</td>\n",
       "      <td>22.1</td>\n",
       "    </tr>\n",
       "    <tr>\n",
       "      <th>1</th>\n",
       "      <td>44.5</td>\n",
       "      <td>39.3</td>\n",
       "      <td>45.1</td>\n",
       "      <td>10.4</td>\n",
       "    </tr>\n",
       "    <tr>\n",
       "      <th>2</th>\n",
       "      <td>17.2</td>\n",
       "      <td>45.9</td>\n",
       "      <td>69.3</td>\n",
       "      <td>9.3</td>\n",
       "    </tr>\n",
       "    <tr>\n",
       "      <th>3</th>\n",
       "      <td>151.5</td>\n",
       "      <td>41.3</td>\n",
       "      <td>58.5</td>\n",
       "      <td>18.5</td>\n",
       "    </tr>\n",
       "    <tr>\n",
       "      <th>4</th>\n",
       "      <td>180.8</td>\n",
       "      <td>10.8</td>\n",
       "      <td>58.4</td>\n",
       "      <td>12.9</td>\n",
       "    </tr>\n",
       "  </tbody>\n",
       "</table>\n",
       "</div>"
      ],
      "text/plain": [
       "      TV  Radio  Newspaper  Sales\n",
       "0  230.1   37.8       69.2   22.1\n",
       "1   44.5   39.3       45.1   10.4\n",
       "2   17.2   45.9       69.3    9.3\n",
       "3  151.5   41.3       58.5   18.5\n",
       "4  180.8   10.8       58.4   12.9"
      ]
     },
     "execution_count": 2,
     "metadata": {},
     "output_type": "execute_result"
    }
   ],
   "source": [
    "df = pd.read_csv('../data/Advertising.csv')\n",
    "df.head()"
   ]
  },
  {
   "cell_type": "markdown",
   "id": "3aad5406",
   "metadata": {},
   "source": [
    "## Data Visualization\n",
    "\n",
    "1. TV\n",
    "- Range & center: spends go from about 0.7 to 296.4, with a mean of ~147 and median of ~150.\n",
    "- Spread: very high variability (SD ≈ 86), IQR ≈ (74, 219).\n",
    "- Shape: fairly broad and roughly uniform—companies span the full budget range, though there are slightly fewer at the very low end.\n",
    "\n",
    "2. Radio\n",
    "- Range & center: from 0 up to 49.6, mean ~23, median ~22.9.\n",
    "- Spread: moderate variability (SD ≈ 14.8), IQR ≈ (10, 36.5).\n",
    "- Shape: somewhat flat but with a mild peak around the mid-20s; fewer companies spent very little or near the maximum.\n",
    "\n",
    "3. Newspaper\n",
    "- Range & center: from 0.3 to 114, mean ~30.6, median ~25.8.\n",
    "- Spread: high relative variability (SD ≈ 21.8), IQR ≈ (12.8, 45.1).\n",
    "- Shape: right-skewed — many firms spend very little on newspapers, but a tail of high spenders (outliers up near 100+).\n",
    "\n",
    "4. Sales\n",
    "- Range & center: sales between 1.6 and 27, mean ~14.0, median ~12.9.\n",
    "- Spread: moderate variability (SD ≈ 5.2), IQR ≈ (10.4, 17.4).\n",
    "- Shape: roughly bell-shaped but with a slight right skew (a few stores with unusually high sales).\n",
    "\n",
    "Implications & next steps:\n",
    "- The skew in Newspaper suggests either a log transform or binning before modeling.\n",
    "- TV and Radio budgets are more evenly spread—these may show a more linear relationship with Sales.\n",
    "- Sales itself is fairly symmetric, so standard linear methods should be OK, but watch for those high-sales outliers."
   ]
  },
  {
   "cell_type": "code",
   "execution_count": 3,
   "id": "3ec39e1f",
   "metadata": {},
   "outputs": [
    {
     "name": "stdout",
     "output_type": "stream",
     "text": [
      "           count      mean        std  min     25%     50%      75%    max\n",
      "TV         200.0  147.0425  85.854236  0.7  74.375  149.75  218.825  296.4\n",
      "Radio      200.0   23.2640  14.846809  0.0   9.975   22.90   36.525   49.6\n",
      "Newspaper  200.0   30.5540  21.778621  0.3  12.750   25.75   45.100  114.0\n",
      "Sales      200.0   14.0225   5.217457  1.6  10.375   12.90   17.400   27.0\n"
     ]
    },
    {
     "data": {
      "image/png": "[encoded data removed]",
      "text/plain": [
       "<Figure size 2000x400 with 4 Axes>"
      ]
     },
     "metadata": {},
     "output_type": "display_data"
    }
   ],
   "source": [
    "numeric_cols = df.select_dtypes(include='number').columns.tolist()\n",
    "\n",
    "# Create a 1×4 subplot grid\n",
    "fig, axes = plt.subplots(1, len(numeric_cols), figsize=(20, 4), sharey=False)\n",
    "\n",
    "# Plot each feature in its own subplot\n",
    "for ax, col in zip(axes, numeric_cols):\n",
    "    ax.hist(df[col].dropna(), bins=30, edgecolor='black')\n",
    "    ax.set_title(col)\n",
    "    ax.set_xlabel(col)\n",
    "    ax.set_ylabel('Frequency')\n",
    "\n",
    "print(df.describe().transpose())\n",
    "plt.tight_layout()\n",
    "plt.show()"
   ]
  },
  {
   "cell_type": "markdown",
   "id": "a54d2e82",
   "metadata": {},
   "source": [
    "## Training the Model — Estimating the Regression Coefficients\n",
    "\n",
    "For the Multiple Linear Regression (MLR) model, we use the least squares method to estimate the regression coefficients — the same foundational approach as in simple linear regression. However, unlike simple regression, the estimation in MLR is carried out using matrix algebra.\n",
    "\n",
    "The [complete derivation](../theory-docs/04-OLS-MLR.ipynb) can be found in the following notebook: `theory-docs/04-OLS-MLR.ipynb`\n",
    "\n",
    "The final matrix formula for estimating the regression coefficients is:\n",
    "\n",
    "$$\n",
    "\\boxed{\n",
    "\\hat\\beta = (X^\\top X)^{-1} X^\\top y\n",
    "}\n",
    "$$\n",
    "\n",
    "where:\n",
    "\n",
    "- X is the matrix of input features (with a column of ones for the intercept),\n",
    "\n",
    "- y is the response vector,\n",
    "\n",
    "- $\\hat\\beta$ is the vector of estimated coefficients."
   ]
  },
  {
   "cell_type": "markdown",
   "id": "d6085f9d",
   "metadata": {},
   "source": [
    "### Manual Calculation"
   ]
  },
  {
   "cell_type": "code",
   "execution_count": 8,
   "id": "dbd2681e",
   "metadata": {},
   "outputs": [
    {
     "name": "stdout",
     "output_type": "stream",
     "text": [
      "Manual Computation — Coefficients:\n"
     ]
    },
    {
     "data": {
      "text/html": [
       "<div>\n",
       "<style scoped>\n",
       "    .dataframe tbody tr th:only-of-type {\n",
       "        vertical-align: middle;\n",
       "    }\n",
       "\n",
       "    .dataframe tbody tr th {\n",
       "        vertical-align: top;\n",
       "    }\n",
       "\n",
       "    .dataframe thead th {\n",
       "        text-align: right;\n",
       "    }\n",
       "</style>\n",
       "<table border=\"1\" class=\"dataframe\">\n",
       "  <thead>\n",
       "    <tr style=\"text-align: right;\">\n",
       "      <th></th>\n",
       "      <th>Coefficient</th>\n",
       "    </tr>\n",
       "  </thead>\n",
       "  <tbody>\n",
       "    <tr>\n",
       "      <th>Intercept</th>\n",
       "      <td>2.9389</td>\n",
       "    </tr>\n",
       "    <tr>\n",
       "      <th>TV</th>\n",
       "      <td>0.0458</td>\n",
       "    </tr>\n",
       "    <tr>\n",
       "      <th>Radio</th>\n",
       "      <td>0.1885</td>\n",
       "    </tr>\n",
       "    <tr>\n",
       "      <th>Newspaper</th>\n",
       "      <td>-0.0010</td>\n",
       "    </tr>\n",
       "  </tbody>\n",
       "</table>\n",
       "</div>"
      ],
      "text/plain": [
       "           Coefficient\n",
       "Intercept       2.9389\n",
       "TV              0.0458\n",
       "Radio           0.1885\n",
       "Newspaper      -0.0010"
      ]
     },
     "metadata": {},
     "output_type": "display_data"
    }
   ],
   "source": [
    "# Step 1: Extract features and target\n",
    "features = ['TV', 'Radio', 'Newspaper']\n",
    "X = df[features].values\n",
    "y = df['Sales'].values.reshape(-1, 1)\n",
    "\n",
    "# Step 2: Add intercept term\n",
    "n_samples = X.shape[0]\n",
    "X_b = np.concatenate([np.ones((n_samples, 1)), X], axis=1)\n",
    "\n",
    "# Step 3: Normal Equation\n",
    "XtX = np.dot(X_b.T, X_b)\n",
    "XtX_inv = np.linalg.inv(XtX)\n",
    "Xty = np.dot(X_b.T, y)\n",
    "beta_hat = np.dot(XtX_inv, Xty)\n",
    "\n",
    "# Step 4: Format as DataFrame\n",
    "coef_names = ['Intercept'] + features\n",
    "coef_df = pd.DataFrame(beta_hat, index=coef_names, columns=['Coefficient'])\n",
    "print(\"Manual Computation — Coefficients:\")\n",
    "display(coef_df.round(4))"
   ]
  },
  {
   "cell_type": "markdown",
   "id": "c9cf138f",
   "metadata": {},
   "source": [
    "### Calculate with Scikit-Learn"
   ]
  },
  {
   "cell_type": "code",
   "execution_count": 9,
   "id": "f6e51fa7",
   "metadata": {},
   "outputs": [
    {
     "name": "stdout",
     "output_type": "stream",
     "text": [
      "Scikit-Learn Estimation — Coefficients:\n"
     ]
    },
    {
     "data": {
      "text/html": [
       "<div>\n",
       "<style scoped>\n",
       "    .dataframe tbody tr th:only-of-type {\n",
       "        vertical-align: middle;\n",
       "    }\n",
       "\n",
       "    .dataframe tbody tr th {\n",
       "        vertical-align: top;\n",
       "    }\n",
       "\n",
       "    .dataframe thead th {\n",
       "        text-align: right;\n",
       "    }\n",
       "</style>\n",
       "<table border=\"1\" class=\"dataframe\">\n",
       "  <thead>\n",
       "    <tr style=\"text-align: right;\">\n",
       "      <th></th>\n",
       "      <th>Coefficient</th>\n",
       "    </tr>\n",
       "  </thead>\n",
       "  <tbody>\n",
       "    <tr>\n",
       "      <th>Intercept</th>\n",
       "      <td>2.9389</td>\n",
       "    </tr>\n",
       "    <tr>\n",
       "      <th>TV</th>\n",
       "      <td>0.0458</td>\n",
       "    </tr>\n",
       "    <tr>\n",
       "      <th>Radio</th>\n",
       "      <td>0.1885</td>\n",
       "    </tr>\n",
       "    <tr>\n",
       "      <th>Newspaper</th>\n",
       "      <td>-0.0010</td>\n",
       "    </tr>\n",
       "  </tbody>\n",
       "</table>\n",
       "</div>"
      ],
      "text/plain": [
       "           Coefficient\n",
       "Intercept       2.9389\n",
       "TV              0.0458\n",
       "Radio           0.1885\n",
       "Newspaper      -0.0010"
      ]
     },
     "metadata": {},
     "output_type": "display_data"
    }
   ],
   "source": [
    "# Step 1: Extract features and target\n",
    "features = ['TV', 'Radio', 'Newspaper']\n",
    "X = df[features].values\n",
    "y = df['Sales'].values.reshape(-1, 1)\n",
    "\n",
    "# Step 2: Fit model\n",
    "model = LinearRegression()\n",
    "model.fit(X, y)\n",
    "\n",
    "# Step 3: Store and format results as DataFrame\n",
    "beta_sklearn = np.concatenate([[model.intercept_[0]], model.coef_.flatten()])\n",
    "coef_names = ['Intercept'] + features\n",
    "coef_df = pd.DataFrame(beta_sklearn, index=coef_names, columns=['Coefficient'])\n",
    "\n",
    "print(\"Scikit-Learn Estimation — Coefficients:\")\n",
    "display(coef_df.round(4))"
   ]
  },
  {
   "cell_type": "markdown",
   "id": "77cc0146",
   "metadata": {},
   "source": [
    "## Several SLR v.s. MLR"
   ]
  },
  {
   "cell_type": "code",
   "execution_count": 11,
   "id": "e849ae0d",
   "metadata": {},
   "outputs": [
    {
     "name": "stdout",
     "output_type": "stream",
     "text": [
      "Simple Linear Regression Summary:\n"
     ]
    },
    {
     "data": {
      "text/html": [
       "<div>\n",
       "<style scoped>\n",
       "    .dataframe tbody tr th:only-of-type {\n",
       "        vertical-align: middle;\n",
       "    }\n",
       "\n",
       "    .dataframe tbody tr th {\n",
       "        vertical-align: top;\n",
       "    }\n",
       "\n",
       "    .dataframe thead th {\n",
       "        text-align: right;\n",
       "    }\n",
       "</style>\n",
       "<table border=\"1\" class=\"dataframe\">\n",
       "  <thead>\n",
       "    <tr style=\"text-align: right;\">\n",
       "      <th></th>\n",
       "      <th>Feature</th>\n",
       "      <th>Intercept</th>\n",
       "      <th>Slope</th>\n",
       "      <th>SE(Slope)</th>\n",
       "      <th>t-stat</th>\n",
       "      <th>p-value</th>\n",
       "    </tr>\n",
       "  </thead>\n",
       "  <tbody>\n",
       "    <tr>\n",
       "      <th>0</th>\n",
       "      <td>TV</td>\n",
       "      <td>7.0326</td>\n",
       "      <td>0.0475</td>\n",
       "      <td>0.0027</td>\n",
       "      <td>17.6676</td>\n",
       "      <td>0.0000</td>\n",
       "    </tr>\n",
       "    <tr>\n",
       "      <th>1</th>\n",
       "      <td>Radio</td>\n",
       "      <td>9.3116</td>\n",
       "      <td>0.2025</td>\n",
       "      <td>0.0204</td>\n",
       "      <td>9.9208</td>\n",
       "      <td>0.0000</td>\n",
       "    </tr>\n",
       "    <tr>\n",
       "      <th>2</th>\n",
       "      <td>Newspaper</td>\n",
       "      <td>12.3514</td>\n",
       "      <td>0.0547</td>\n",
       "      <td>0.0166</td>\n",
       "      <td>3.2996</td>\n",
       "      <td>0.0011</td>\n",
       "    </tr>\n",
       "  </tbody>\n",
       "</table>\n",
       "</div>"
      ],
      "text/plain": [
       "     Feature  Intercept   Slope  SE(Slope)   t-stat  p-value\n",
       "0         TV     7.0326  0.0475     0.0027  17.6676   0.0000\n",
       "1      Radio     9.3116  0.2025     0.0204   9.9208   0.0000\n",
       "2  Newspaper    12.3514  0.0547     0.0166   3.2996   0.0011"
      ]
     },
     "metadata": {},
     "output_type": "display_data"
    }
   ],
   "source": [
    "from sklearn.linear_model import LinearRegression\n",
    "from scipy.stats import t\n",
    "import pandas as pd\n",
    "import numpy as np\n",
    "\n",
    "# List of features to model separately\n",
    "features = ['TV', 'Radio', 'Newspaper']\n",
    "results = []\n",
    "\n",
    "for feature in features:\n",
    "    X = df[[feature]].values\n",
    "    y = df['Sales'].values.reshape(-1, 1)\n",
    "    n = len(y)\n",
    "\n",
    "    model = LinearRegression()\n",
    "    model.fit(X, y)\n",
    "\n",
    "    intercept = model.intercept_[0]\n",
    "    slope = model.coef_[0][0]\n",
    "    y_pred = model.predict(X)\n",
    "\n",
    "    # Residuals and RSS\n",
    "    residuals = y - y_pred\n",
    "    RSS = np.sum(residuals ** 2)\n",
    "\n",
    "    # Standard error of slope\n",
    "    x_diff_sq_sum = np.sum((X - np.mean(X)) ** 2)\n",
    "    RSE = np.sqrt(RSS / (n - 2))  # residual standard error\n",
    "    SE_slope = RSE / np.sqrt(x_diff_sq_sum)\n",
    "\n",
    "    # t-statistic and p-value\n",
    "    t_stat = slope / SE_slope\n",
    "    p_val = 2 * (1 - t.cdf(np.abs(t_stat), df=n - 2))\n",
    "\n",
    "    results.append({\n",
    "        'Feature': feature,\n",
    "        'Intercept': intercept,\n",
    "        'Slope': slope,\n",
    "        'SE(Slope)': SE_slope,\n",
    "        't-stat': t_stat,\n",
    "        'p-value': p_val\n",
    "    })\n",
    "\n",
    "# Format and display\n",
    "simple_lm_df = pd.DataFrame(results)\n",
    "print(\"Simple Linear Regression Summary:\")\n",
    "display(simple_lm_df.round(4))"
   ]
  },
  {
   "cell_type": "markdown",
   "id": "6935ad36",
   "metadata": {},
   "source": [
    "# Find separate regression equation"
   ]
  },
  {
   "cell_type": "markdown",
   "id": "d2950a8c",
   "metadata": {},
   "source": [
    "# The Proof of Coefficients for Multiple Linear Regression Model"
   ]
  },
  {
   "cell_type": "code",
   "execution_count": null,
   "id": "613ba6f3",
   "metadata": {},
   "outputs": [
    {
     "name": "stdout",
     "output_type": "stream",
     "text": [
      "Intercept: 2.9388893694594085\n",
      "Coefficients: [ 0.04576465  0.18853002 -0.00103749]\n"
     ]
    },
    {
     "data": {
      "text/html": [
       "<div>\n",
       "<style scoped>\n",
       "    .dataframe tbody tr th:only-of-type {\n",
       "        vertical-align: middle;\n",
       "    }\n",
       "\n",
       "    .dataframe tbody tr th {\n",
       "        vertical-align: top;\n",
       "    }\n",
       "\n",
       "    .dataframe thead th {\n",
       "        text-align: right;\n",
       "    }\n",
       "</style>\n",
       "<table border=\"1\" class=\"dataframe\">\n",
       "  <thead>\n",
       "    <tr style=\"text-align: right;\">\n",
       "      <th></th>\n",
       "      <th>Feature</th>\n",
       "      <th>Coefficient</th>\n",
       "    </tr>\n",
       "  </thead>\n",
       "  <tbody>\n",
       "    <tr>\n",
       "      <th>0</th>\n",
       "      <td>Intercept</td>\n",
       "      <td>2.938889</td>\n",
       "    </tr>\n",
       "    <tr>\n",
       "      <th>1</th>\n",
       "      <td>TV</td>\n",
       "      <td>0.045765</td>\n",
       "    </tr>\n",
       "    <tr>\n",
       "      <th>2</th>\n",
       "      <td>Radio</td>\n",
       "      <td>0.188530</td>\n",
       "    </tr>\n",
       "    <tr>\n",
       "      <th>3</th>\n",
       "      <td>Newspaper</td>\n",
       "      <td>-0.001037</td>\n",
       "    </tr>\n",
       "  </tbody>\n",
       "</table>\n",
       "</div>"
      ],
      "text/plain": [
       "     Feature  Coefficient\n",
       "0  Intercept     2.938889\n",
       "1         TV     0.045765\n",
       "2      Radio     0.188530\n",
       "3  Newspaper    -0.001037"
      ]
     },
     "execution_count": 5,
     "metadata": {},
     "output_type": "execute_result"
    }
   ],
   "source": [
    "X = df[['TV', 'Radio', 'Newspaper']]\n",
    "y = df['Sales']\n",
    "\n",
    "# Fit multiple linear regression model\n",
    "model = LinearRegression()\n",
    "model.fit(X, y)\n",
    "\n",
    "# Get coefficients and intercept\n",
    "coefficients = model.coef_\n",
    "intercept = model.intercept_\n",
    "\n",
    "# Display the result\n",
    "print(\"Intercept:\", intercept)\n",
    "print(\"Coefficients:\", coefficients)\n",
    "\n",
    "# Optional: create a DataFrame for easy viewing\n",
    "coef_df = pd.DataFrame({\n",
    "    'Feature': X.columns,\n",
    "    'Coefficient': coefficients\n",
    "})\n",
    "\n",
    "coef_df_with_intercept = pd.concat([\n",
    "    pd.DataFrame({'Feature': ['Intercept'], 'Coefficient': [intercept]}),\n",
    "    coef_df\n",
    "], ignore_index=True)\n",
    "\n",
    "coef_df_with_intercept"
   ]
  },
  {
   "cell_type": "code",
   "execution_count": 9,
   "id": "c17d5fcc",
   "metadata": {},
   "outputs": [
    {
     "name": "stdout",
     "output_type": "stream",
     "text": [
      "                            OLS Regression Results                            \n",
      "==============================================================================\n",
      "Dep. Variable:                  Sales   R-squared:                       0.897\n",
      "Model:                            OLS   Adj. R-squared:                  0.896\n",
      "Method:                 Least Squares   F-statistic:                     570.3\n",
      "Date:                Thu, 10 Apr 2025   Prob (F-statistic):           1.58e-96\n",
      "Time:                        08:33:40   Log-Likelihood:                -386.18\n",
      "No. Observations:                 200   AIC:                             780.4\n",
      "Df Residuals:                     196   BIC:                             793.6\n",
      "Df Model:                           3                                         \n",
      "Covariance Type:            nonrobust                                         \n",
      "==============================================================================\n",
      "                 coef    std err          t      P>|t|      [0.025      0.975]\n",
      "------------------------------------------------------------------------------\n",
      "const          2.9389      0.312      9.422      0.000       2.324       3.554\n",
      "TV             0.0458      0.001     32.809      0.000       0.043       0.049\n",
      "Radio          0.1885      0.009     21.893      0.000       0.172       0.206\n",
      "Newspaper     -0.0010      0.006     -0.177      0.860      -0.013       0.011\n",
      "==============================================================================\n",
      "Omnibus:                       60.414   Durbin-Watson:                   2.084\n",
      "Prob(Omnibus):                  0.000   Jarque-Bera (JB):              151.241\n",
      "Skew:                          -1.327   Prob(JB):                     1.44e-33\n",
      "Kurtosis:                       6.332   Cond. No.                         454.\n",
      "==============================================================================\n",
      "\n",
      "Notes:\n",
      "[1] Standard Errors assume that the covariance matrix of the errors is correctly specified.\n"
     ]
    }
   ],
   "source": [
    "# Add a constant (intercept term) to the model\n",
    "X_with_const = sm.add_constant(X)\n",
    "\n",
    "# Fit the OLS model\n",
    "ols_model = sm.OLS(y, X_with_const).fit()\n",
    "\n",
    "# Display full summary (includes std err, t, P>|t|, R², etc.)\n",
    "print(ols_model.summary())"
   ]
  },
  {
   "cell_type": "markdown",
   "id": "424bf0a4",
   "metadata": {},
   "source": [
    "# Separate SLR V.S. MLR\n",
    "\n",
    "- The correlation between **radio** and **newspaper** is 0.35. This indivtes that markets with high newspaper advertising tend to also have high radio advertising.\n",
    "- SLR inciates newspaper is associated with sales.\n",
    "- MLR indicates newspaper is not associated with sales, but radio advertising is associated with sales. If we spend on more radio, the sales will tend to be higher. As the correlation maxtrix shows, we also tend to spend more on newspaper in those same markets. Even though newspaper advertising is not directly associated with sales, newpspaer advertising is a surrogate for radio advertising and newspaper gets \"credit\" for association between radio on sales."
   ]
  },
  {
   "cell_type": "code",
   "execution_count": 11,
   "id": "e5394f5d",
   "metadata": {},
   "outputs": [
    {
     "data": {
      "image/png": "[encoded data removed]",
      "text/plain": [
       "<Figure size 800x600 with 2 Axes>"
      ]
     },
     "metadata": {},
     "output_type": "display_data"
    }
   ],
   "source": [
    "# Compute the correlation matrix\n",
    "corr_matrix = df.corr()\n",
    "\n",
    "# Plot the heatmap\n",
    "plt.figure(figsize=(8, 6))\n",
    "sns.heatmap(corr_matrix, annot=True, cmap='coolwarm', fmt=\".4f\", square=True)\n",
    "plt.title('Correlation Matrix')\n",
    "plt.tight_layout()\n",
    "plt.show()"
   ]
  },
  {
   "cell_type": "markdown",
   "id": "8be6e281",
   "metadata": {},
   "source": [
    "# Is there a relationship between the response and predictors?\n",
    "\n",
    "Hypothesis test set H0: beta1 = beta2 = ... = betan = 0\n",
    "\n",
    "The hypothesis test is peformed by computing the F-statistic. When there is no relationship(H0 is true) between response and predictors, we would expect the F-statistic to take on a value close to 1. If Ha is true, we expect F to be greater than 1.\n",
    "\n",
    "In our case, F is 570 ad far larger than 1, it provided compelling evidence against the null hypothesis H0. **The large F-statistic suggests that at least one of the advertising media must be related to sales.**\n",
    "\n",
    "How large does the F-statistic need to be before we can reject H0 and conclude that there is a relationship? It turns out that the answer depends on the values of n and p. When n is large, an Fstatistic that is just a little larger than 1 might still provide evidence again H0. In constrast, a larger F-statistic is needed to reject H0 if n is small. (Incompleted page94)"
   ]
  },
  {
   "cell_type": "code",
   "execution_count": 12,
   "id": "5c9f531b",
   "metadata": {},
   "outputs": [
    {
     "name": "stdout",
     "output_type": "stream",
     "text": [
      "                            OLS Regression Results                            \n",
      "==============================================================================\n",
      "Dep. Variable:                  Sales   R-squared:                       0.897\n",
      "Model:                            OLS   Adj. R-squared:                  0.896\n",
      "Method:                 Least Squares   F-statistic:                     570.3\n",
      "Date:                Thu, 10 Apr 2025   Prob (F-statistic):           1.58e-96\n",
      "Time:                        09:08:14   Log-Likelihood:                -386.18\n",
      "No. Observations:                 200   AIC:                             780.4\n",
      "Df Residuals:                     196   BIC:                             793.6\n",
      "Df Model:                           3                                         \n",
      "Covariance Type:            nonrobust                                         \n",
      "==============================================================================\n",
      "                 coef    std err          t      P>|t|      [0.025      0.975]\n",
      "------------------------------------------------------------------------------\n",
      "const          2.9389      0.312      9.422      0.000       2.324       3.554\n",
      "TV             0.0458      0.001     32.809      0.000       0.043       0.049\n",
      "Radio          0.1885      0.009     21.893      0.000       0.172       0.206\n",
      "Newspaper     -0.0010      0.006     -0.177      0.860      -0.013       0.011\n",
      "==============================================================================\n",
      "Omnibus:                       60.414   Durbin-Watson:                   2.084\n",
      "Prob(Omnibus):                  0.000   Jarque-Bera (JB):              151.241\n",
      "Skew:                          -1.327   Prob(JB):                     1.44e-33\n",
      "Kurtosis:                       6.332   Cond. No.                         454.\n",
      "==============================================================================\n",
      "\n",
      "Notes:\n",
      "[1] Standard Errors assume that the covariance matrix of the errors is correctly specified.\n"
     ]
    }
   ],
   "source": [
    "print(ols_model.summary())"
   ]
  },
  {
   "cell_type": "markdown",
   "id": "c36bebb9",
   "metadata": {},
   "source": [
    "# Deciding on Important Variables\n",
    "\n",
    "- it is possible that all of the predictor are associated with the response, but it is more often the case that the response is only associated with a subset of the predictors.\n",
    "- The task of determining which predictors are associated with the response, in order to fit a single model involving only those predictors, is referred to as **variable selection**.\n",
    "  - Why test all combination of models doesn't work(page96)\n",
    "  - Three classical approaches for this task:\n",
    "    - Forward selection\n",
    "    - backward selection\n",
    "    - mixed selection"
   ]
  },
  {
   "cell_type": "markdown",
   "id": "985b2892",
   "metadata": {},
   "source": [
    "# Model Fit\n",
    "\n",
    "- RSE and R2 are most important\n",
    "- The previous table shows R2 of 0.8972 on the model that uses all three advertising media to predict sales.\n",
    "- if you drop newspaper and calculate the model again, you will have R2 of 0.89719.\n",
    "- it says even thought p-value(0.860) from preivous table indicates that newspaper is not significant and very weakly associated with the response, R2 will slightly increase when it is added into the model.\n",
    "- In fact, adding newspaper  to the model leads to tiny increase in R2 provideds additional evidence that newspaper can be dropped from the model.\n",
    "- If model only contain TV, we will have R2 of 0.61. Adding radio to the model leads to a substantial improvement in R2. This implies that a model that uses TV and radio expenditures to predict sales is substantially better than one that uses only TV advertising.\n",
    "- We can further quantify this improvement by looking at p-value and R2 in a model that contains only TV and radio.\n",
    "- Calculate RSE(Page97)"
   ]
  },
  {
   "cell_type": "markdown",
   "id": "0b93da5c",
   "metadata": {},
   "source": [
    "# Prediction\n",
    "\n",
    "Confidence Interval(page99)"
   ]
  },
  {
   "cell_type": "markdown",
   "id": "1bf7771c",
   "metadata": {},
   "source": [
    "# Synergy/Interaction Effect\n",
    "\n",
    "- The Linear model states that the average inscrease in sales associated with one-unit inscrease in TV is always Beta1, regardless of the amount spent on radio. However, this simple model may be incorrect.Given a fixed budget of $100,000, spending half on radio and half on TV may increase sales more than allocating the entire amount to either TV or to radio. So, we need to test the Synergy/Interaction effect.\n",
    "- Formula(P104)"
   ]
  }
 ],
 "metadata": {
  "kernelspec": {
   "display_name": "Python 3",
   "language": "python",
   "name": "python3"
  },
  "language_info": {
   "codemirror_mode": {
    "name": "ipython",
    "version": 3
   },
   "file_extension": ".py",
   "mimetype": "text/x-python",
   "name": "python",
   "nbconvert_exporter": "python",
   "pygments_lexer": "ipython3",
   "version": "3.12.4"
  }
 },
 "nbformat": 4,
 "nbformat_minor": 5
}
